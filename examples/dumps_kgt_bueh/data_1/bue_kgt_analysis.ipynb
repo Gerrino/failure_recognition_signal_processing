{
 "cells": [
  {
   "cell_type": "code",
   "execution_count": 1,
   "metadata": {},
   "outputs": [
    {
     "ename": "ModuleNotFoundError",
     "evalue": "No module named 'failure_recognition_signal_processing'",
     "output_type": "error",
     "traceback": [
      "\u001b[1;31m---------------------------------------------------------------------------\u001b[0m",
      "\u001b[1;31mModuleNotFoundError\u001b[0m                       Traceback (most recent call last)",
      "Cell \u001b[1;32mIn[1], line 7\u001b[0m\n\u001b[0;32m      5\u001b[0m \u001b[38;5;28;01mfrom\u001b[39;00m \u001b[38;5;21;01mtyping\u001b[39;00m \u001b[38;5;28;01mimport\u001b[39;00m List, Tuple\n\u001b[0;32m      6\u001b[0m \u001b[38;5;28;01mfrom\u001b[39;00m \u001b[38;5;21;01mpathlib\u001b[39;00m \u001b[38;5;28;01mimport\u001b[39;00m Path\n\u001b[1;32m----> 7\u001b[0m \u001b[38;5;28;01mfrom\u001b[39;00m \u001b[38;5;21;01mfailure_recognition_signal_processing\u001b[39;00m\u001b[38;5;21;01m.\u001b[39;00m\u001b[38;5;21;01mparse_kgt_data\u001b[39;00m \u001b[38;5;28;01mimport\u001b[39;00m create_machine_object, combine_multi_machine_data\n\u001b[0;32m      8\u001b[0m \u001b[38;5;28;01mfrom\u001b[39;00m \u001b[38;5;21;01mfailure_recognition_signal_processing\u001b[39;00m\u001b[38;5;21;01m.\u001b[39;00m\u001b[38;5;21;01massess_kgt_data\u001b[39;00m \u001b[38;5;28;01mimport\u001b[39;00m assess_test_results_in_envelope, classify_using_envelope, calculate_envelope, plot_sensor_envelope, split_training_data_by_label\n\u001b[0;32m     10\u001b[0m \u001b[38;5;28;01mfrom\u001b[39;00m \u001b[38;5;21;01mfailure_recognition_signal_processing\u001b[39;00m\u001b[38;5;21;01m.\u001b[39;00m\u001b[38;5;21;01mparse_kgt_data\u001b[39;00m \u001b[38;5;28;01mimport\u001b[39;00m Machine\n",
      "\u001b[1;31mModuleNotFoundError\u001b[0m: No module named 'failure_recognition_signal_processing'"
     ]
    }
   ],
   "source": [
    "from dataclasses import dataclass, field\n",
    "from matplotlib import pyplot as plt\n",
    "import numpy as np\n",
    "import pandas as pd\n",
    "from typing import List, Tuple\n",
    "from pathlib import Path\n",
    "from failure_recognition_signal_processing.parse_kgt_data import create_machine_object, combine_multi_machine_data\n",
    "from failure_recognition_signal_processing.assess_kgt_data import assess_test_results_in_envelope, classify_using_envelope, calculate_envelope, plot_sensor_envelope, split_training_data_by_label\n",
    "\n",
    "from failure_recognition_signal_processing.parse_kgt_data import Machine"
   ]
  },
  {
   "cell_type": "code",
   "execution_count": null,
   "metadata": {},
   "outputs": [],
   "source": [
    "# Example usage:\n",
    "\n",
    "label_file = Path(\"labels\\\\11.xlsx\")\n",
    "machine_file = Path(\"machine_data\\\\11.csv\")\n",
    "time_range = (0, 17.70)  # Example time range from 0 to 120 seconds\n",
    "beta_envelope = 2\n",
    "\n",
    "machine = create_machine_object(machine_file, label_file, time_range, dict())\n",
    "\n",
    "sensor_sx = machine.get_sensor_data_by_name(\"s5\").dataframe\n",
    "\n",
    "sensor_sx_data_label_1 = sensor_sx.loc[:, machine.labels == True]\n",
    "sensor_sx_data_label_0 = sensor_sx.loc[:, machine.labels == False]\n",
    "\n",
    "envelope = calculate_envelope(sensor_sx_data_label_0, beta_envelope)\n",
    "\n",
    "plot_sensor_envelope(envelope, sensor_sx_data_label_0, sensor_sx_data_label_1, beta_envelope, \"Machine 11\")\n"
   ]
  },
  {
   "cell_type": "markdown",
   "metadata": {},
   "source": [
    "# Multiple machines (cross validation)"
   ]
  },
  {
   "cell_type": "code",
   "execution_count": 7,
   "metadata": {},
   "outputs": [],
   "source": [
    "time_range = (0.2, 17.70)  # Example time range from 0 to 120 seconds\n",
    "sensor_name = \"s5\"\n",
    "machine_cnt = 15\n",
    "beta_envelope = 2\n",
    "envelope_min_total_violation = 20 # min data points outside the evelope to be labelled as \"1\"\n",
    "replacement_dates = {\"7\": 109, \"11\": 95, \"12\": 74, \"14\": 52} # maps machine number to first index after replacement"
   ]
  },
  {
   "cell_type": "code",
   "execution_count": null,
   "metadata": {},
   "outputs": [],
   "source": [
    "machine_list = []\n",
    "skipped_names = []\n",
    "\n",
    "for i in range(1, machine_cnt):\n",
    "    label_file = Path(f\"labels\\\\{i}.xlsx\")\n",
    "    machine_file = Path(f\"machine_data\\\\{i}.csv\")    \n",
    "    \n",
    "    try:\n",
    "        machine = create_machine_object(machine_file, label_file, time_range, replacement_dates)\n",
    "    except Exception as e:\n",
    "        skipped_names.append(str(i))\n",
    "        continue\n",
    "    else:\n",
    "        machine_list.append(machine)\n",
    "\n",
    "print(f\"Skipping machines {skipped_names} (for nan values or missing .csv file)\")\n",
    "\n",
    "tmp = (set(replacement_dates.keys()) - set(skipped_names)) - set([m.machine_name for m in machine_list])\n",
    "assert(len(tmp) == 0)"
   ]
  },
  {
   "cell_type": "code",
   "execution_count": null,
   "metadata": {},
   "outputs": [],
   "source": [
    "from tabulate import tabulate\n",
    "\n",
    "f1_scores = []\n",
    "false_positive_rate = []\n",
    "false_positive_rate_post_fix = []\n",
    "\n",
    "# Perform cross validation\n",
    "for _, test_machine in enumerate(machine_list):\n",
    "    test_machine: Machine # test machine (i) against all other machines\n",
    "\n",
    "    training_machines: List[Machine] = [x for j, x in enumerate(machine_list) if j != i]\n",
    "    \n",
    "    training_df_combined, training_labels_combined = combine_multi_machine_data(sensor_name, training_machines)\n",
    "\n",
    "    training_data_0, training_data_1 = split_training_data_by_label(training_df_combined, training_labels_combined)\n",
    "\n",
    "    # Create envelope from training data with label 0 (no defect)\n",
    "    envelope = calculate_envelope(training_data_0, beta_envelope)\n",
    "\n",
    "    test_sensor_df = test_machine.get_sensor_data_by_name(sensor_name).dataframe\n",
    "\n",
    "    test_data_0, test_data_1 = split_training_data_by_label(test_sensor_df, test_machine.labels)\n",
    "\n",
    "    if test_machine.labels_post_fix is not None:\n",
    "        test_sensor_df_post_fix = test_machine.get_sensor_data_by_name(sensor_name, post_fix=True).dataframe\n",
    "        test_data_0_post_fix, test_data_1_post_fix = split_training_data_by_label(test_sensor_df_post_fix, test_machine.labels_post_fix)\n",
    "        plot_sensor_envelope(envelope, test_data_0, test_data_1, beta_envelope, f\"Machine {test_machine.machine_name} Sensor {sensor_name}\", test_data_0_post_fix)\n",
    "    else:\n",
    "        plot_sensor_envelope(envelope, test_data_0, test_data_1, beta_envelope, f\"Machine {test_machine.machine_name} Sensor {sensor_name}\")\n",
    "\n",
    "    predictions = classify_using_envelope(test_sensor_df, envelope, min_total_violation=envelope_min_total_violation)    \n",
    "    fpr, f1 = assess_test_results_in_envelope(test_machine.machine_name, test_machine.labels, predictions)\n",
    "    \n",
    "    false_positive_rate.append(fpr)\n",
    "    f1_scores.append(f1)\n",
    "\n",
    "    if test_machine.labels_post_fix is not None:\n",
    "        test_sensor_df_post_fix = test_machine.get_sensor_data_by_name(sensor_name, post_fix=True).dataframe\n",
    "        predictions_post_fix = classify_using_envelope(test_sensor_df_post_fix, envelope, min_total_violation=envelope_min_total_violation)    \n",
    "        fpr_post_fix, _ = assess_test_results_in_envelope(test_machine.machine_name, test_machine.labels_post_fix, predictions_post_fix)\n",
    "        false_positive_rate_post_fix.append(fpr_post_fix)\n",
    "    else:\n",
    "        false_positive_rate_post_fix.append((test_machine.machine_name, None))\n",
    "\n",
    "# Data for plotting\n",
    "categories = [f\"Machine {m.machine_name}\" for m in machine_list]\n",
    "data =[[\"FPR\"] + [float(x[1]) if x[1] is not None else None for x in false_positive_rate],\n",
    "       [\"F1\"] + [float(x[1]) if x[1] is not None else None for x in f1_scores],\n",
    "       [\"FPR (Post Fix)\"] + [float(x[1]) if x[1] is not None else None for x in false_positive_rate_post_fix]]\n",
    "\n",
    "print(tabulate(data, headers=categories, tablefmt='grid'))"
   ]
  }
 ],
 "metadata": {
  "kernelspec": {
   "display_name": "venv",
   "language": "python",
   "name": "python3"
  },
  "language_info": {
   "codemirror_mode": {
    "name": "ipython",
    "version": 3
   },
   "file_extension": ".py",
   "mimetype": "text/x-python",
   "name": "python",
   "nbconvert_exporter": "python",
   "pygments_lexer": "ipython3",
   "version": "3.10.1"
  }
 },
 "nbformat": 4,
 "nbformat_minor": 2
}
